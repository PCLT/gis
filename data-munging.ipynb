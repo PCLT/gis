{
 "cells": [
  {
   "cell_type": "markdown",
   "metadata": {},
   "source": [
    "### Combines houshold and population files, and subsets to relevant features"
   ]
  },
  {
   "cell_type": "code",
   "execution_count": 23,
   "metadata": {
    "collapsed": true
   },
   "outputs": [],
   "source": [
    "import pandas as pd\n",
    "import matplotlib.pyplot as plt\n",
    "%matplotlib inline\n",
    "import numpy as np\n",
    "from collections import Counter"
   ]
  },
  {
   "cell_type": "markdown",
   "metadata": {},
   "source": [
    "### Data Dictionary (household features)\n",
    "\n",
    "- SERIALNO: household number\n",
    "- FES: married, heterosexual couples are 1, 2, 3 or 4\n",
    "- SSMC: same-sex marriage flag\n",
    "- HHL: household language (1=English only)\n",
    "- NOC: number of children in household"
   ]
  },
  {
   "cell_type": "code",
   "execution_count": 5,
   "metadata": {
    "collapsed": true
   },
   "outputs": [],
   "source": [
    "# vars to keep\n",
    "hh_vars = ['SERIALNO', 'SSMC', 'FES', 'HHL', 'NOC']"
   ]
  },
  {
   "cell_type": "code",
   "execution_count": 31,
   "metadata": {
    "collapsed": true
   },
   "outputs": [],
   "source": [
    "def merge_all(year):\n",
    "    ''' merges houshold and population files per year'''\n",
    "    y = year - 2000 #for file names\n",
    "    # hh files\n",
    "    h1_file = \"csv_hus/ss{}husa.csv\".format(y)\n",
    "    h2_file = \"csv_hus/ss{}husb.csv\".format(y)\n",
    "    \n",
    "    def merge_df(file1, file2):\n",
    "        df1 = pd.read_csv(file1)\n",
    "        df2 = pd.read_csv(file2)\n",
    "        return pd.concat([df1, df2])\n",
    "    \n",
    "    hh = merge_df(h1_file, h2_file) # merge the two hh files\n",
    "    print \"\"\n",
    "    \n",
    "    def ss_het(df):\n",
    "        ss = list(df.loc[(df['SSMC'].isin([1,2])) & (df['FES'].isnull())]['SERIALNO'])\n",
    "        het = list(df.loc[(df['FES'].isin([1,2,3,4]))]['SERIALNO'])\n",
    "        return ss, het\n",
    "    \n",
    "    ss, het = ss_het(hh) # create lists for ss and het\n",
    "    \n",
    "    #files for pop\n",
    "    pop1 = \"csv_pus/ss{}pusa.csv\".format(y)\n",
    "    pop2 = \"csv_pus/ss{}pusb.csv\".format(y)\n",
    "    \n",
    "    pop = merge_df(pop1, pop2) # merge pop files\n",
    "    \n",
    "    #subset the population files by married households\n",
    "    ss_df = pop[pop['SERIALNO'].isin(ss)][[i for i in pop.columns if \"pwgtp\" not in i]]\n",
    "    het_df = pop[pop['SERIALNO'].isin(het)][[i for i in pop.columns if \"pwgtp\" not in i]]\n",
    "    \n",
    "    # subset just to married people\n",
    "    ss_df = ss_df[ss_df['MAR']==1]\n",
    "    het_df = het_df[het_df['MAR']==1]\n",
    "    \n",
    "    # add SSC flag\n",
    "    ss_df['gay'] = 1\n",
    "    het_df['gay'] = 0\n",
    "    \n",
    "    pop_2 = pd.concat([ss_df, het_df]) # concatenate to one pop\n",
    "    \n",
    "    hh_sub = hh[hh_vars] #get back hh features needed\n",
    "    \n",
    "    pop_2 = pop_2.merge(hh_sub, on='SERIALNO', how='left') # add in hh features\n",
    "    pop_2['year'] = year # add year\n",
    "    \n",
    "    #subset only to two partner households for simplicity in calculating spouse's wage\n",
    "    \n",
    "    c = Counter(list(pop_2['SERIALNO']))\n",
    "    twop_houses = [i for i, j in c.items() if j==2] # houses w/ two partners\n",
    "    pop_2 = pop_2.loc[pop_2['SERIALNO'].isin(twop_houses)] # subset\n",
    "    \n",
    "    pop_2.to_csv('sub{}.csv'.format(y), index=False) # save out file\n"
   ]
  },
  {
   "cell_type": "code",
   "execution_count": 32,
   "metadata": {},
   "outputs": [
    {
     "name": "stdout",
     "output_type": "stream",
     "text": [
      "\n"
     ]
    }
   ],
   "source": [
    "merge_all(2014) #create 2014 file"
   ]
  },
  {
   "cell_type": "code",
   "execution_count": 33,
   "metadata": {},
   "outputs": [
    {
     "name": "stdout",
     "output_type": "stream",
     "text": [
      "\n"
     ]
    }
   ],
   "source": [
    "merge_all(2015)"
   ]
  },
  {
   "cell_type": "code",
   "execution_count": null,
   "metadata": {
    "collapsed": true
   },
   "outputs": [],
   "source": [
    "merge_all(2016)"
   ]
  },
  {
   "cell_type": "code",
   "execution_count": 44,
   "metadata": {
    "collapsed": true
   },
   "outputs": [],
   "source": [
    "def add_spouse_salary(file_path):\n",
    "    '''adds feature for salary of spouse'''\n",
    "    df = pd.read_csv(file_path) # read in file\n",
    "    wage_by_house = df.groupby('SERIALNO')['WAGP'].sum() # total wage by house\n",
    "\n",
    "    def spouse_salary(x):\n",
    "        return wage_by_house.loc[x[0]] - x[1] # subtract wage from total to find spouse wage\n",
    "\n",
    "    zippers = zip(df['SERIALNO'], df['WAGP']) #zip house and wage\n",
    "\n",
    "    # find spouse's salary\n",
    "    s_sal = [] \n",
    "    for z in zippers:\n",
    "        s_sal.append(spouse_salary(z))\n",
    "\n",
    "    df['spouse_wage'] = s_sal # add spouse's salary to df\n",
    "    \n",
    "    df.to_csv(file_path, index=False)"
   ]
  },
  {
   "cell_type": "code",
   "execution_count": 45,
   "metadata": {},
   "outputs": [
    {
     "name": "stderr",
     "output_type": "stream",
     "text": [
      "/Users/pt/anaconda/lib/python2.7/site-packages/IPython/core/interactiveshell.py:2831: DtypeWarning: Columns (101) have mixed types. Specify dtype option on import or set low_memory=False.\n",
      "  if self.run_code(code, result):\n"
     ]
    }
   ],
   "source": [
    "add_spouse_salary('sub14.csv')"
   ]
  },
  {
   "cell_type": "code",
   "execution_count": 46,
   "metadata": {
    "collapsed": true
   },
   "outputs": [],
   "source": [
    "add_spouse_salary('sub15.csv')"
   ]
  },
  {
   "cell_type": "code",
   "execution_count": 47,
   "metadata": {
    "collapsed": true
   },
   "outputs": [],
   "source": [
    "add_spouse_salary('sub16.csv')"
   ]
  },
  {
   "cell_type": "code",
   "execution_count": null,
   "metadata": {
    "collapsed": true
   },
   "outputs": [],
   "source": []
  }
 ],
 "metadata": {
  "kernelspec": {
   "display_name": "Python [default]",
   "language": "python",
   "name": "python2"
  },
  "language_info": {
   "codemirror_mode": {
    "name": "ipython",
    "version": 2
   },
   "file_extension": ".py",
   "mimetype": "text/x-python",
   "name": "python",
   "nbconvert_exporter": "python",
   "pygments_lexer": "ipython2",
   "version": "2.7.14"
  }
 },
 "nbformat": 4,
 "nbformat_minor": 1
}
