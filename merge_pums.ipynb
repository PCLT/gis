{
 "cells": [
  {
   "cell_type": "markdown",
   "metadata": {},
   "source": [
    "## Merges PUMS shapefiles into one for entire country"
   ]
  },
  {
   "cell_type": "code",
   "execution_count": 35,
   "metadata": {
    "collapsed": true
   },
   "outputs": [],
   "source": [
    "import pandas as pd\n",
    "import numpy as np\n",
    "import geopandas as gpd\n",
    "import matplotlib.pyplot as plt\n",
    "%matplotlib inline\n",
    "from shapely.geometry import Point"
   ]
  },
  {
   "cell_type": "code",
   "execution_count": 36,
   "metadata": {
    "collapsed": true
   },
   "outputs": [],
   "source": [
    "fips = [u'23', u'15', u'04', u'05', u'10', u'13', u'27', u'02', u'06',\n",
    "       u'11', u'12', u'16', u'17', u'19', u'21', u'22', u'24', u'26',\n",
    "       u'29', u'30', u'36', u'41', u'47', u'48', u'51', u'55', u'46',\n",
    "       u'49', u'18', u'25', u'28', u'31', u'35', u'37', u'44', u'39',\n",
    "       u'40', u'45', u'08', u'20', u'09', u'32', u'53', u'54', u'56',\n",
    "       u'01', u'72', u'33', u'34', u'38', u'42', u'50']"
   ]
  },
  {
   "cell_type": "code",
   "execution_count": 38,
   "metadata": {},
   "outputs": [],
   "source": [
    "\n",
    "df = gpd.GeoDataFrame.from_file(\n",
    "    './pums/{0}/cb_2016_{0}_puma10_500k.shp'.format(fips[0]), driver='ESRI Shapefile')\n",
    "\n",
    "for fip in fips[1:]:\n",
    "    temp = gpd.GeoDataFrame.from_file(\n",
    "    './pums/{0}/cb_2016_{0}_puma10_500k.shp'.format(fip), driver='ESRI Shapefile')\n",
    "    df = pd.concat([df, temp])"
   ]
  },
  {
   "cell_type": "code",
   "execution_count": 39,
   "metadata": {
    "collapsed": true
   },
   "outputs": [],
   "source": [
    "df.to_file(\"country_pums.shp\")"
   ]
  },
  {
   "cell_type": "code",
   "execution_count": 40,
   "metadata": {
    "collapsed": true
   },
   "outputs": [],
   "source": [
    "# add centroids to shape file\n",
    "df['centroids'] = df.centroid\n",
    "#extract lat and lon\n",
    "df['lon'] = df['centroids'].apply(lambda p: p.x)\n",
    "df['lat'] = df['centroids'].apply(lambda p: p.y)"
   ]
  },
  {
   "cell_type": "code",
   "execution_count": 41,
   "metadata": {},
   "outputs": [
    {
     "data": {
      "text/html": [
       "<div>\n",
       "<style scoped>\n",
       "    .dataframe tbody tr th:only-of-type {\n",
       "        vertical-align: middle;\n",
       "    }\n",
       "\n",
       "    .dataframe tbody tr th {\n",
       "        vertical-align: top;\n",
       "    }\n",
       "\n",
       "    .dataframe thead th {\n",
       "        text-align: right;\n",
       "    }\n",
       "</style>\n",
       "<table border=\"1\" class=\"dataframe\">\n",
       "  <thead>\n",
       "    <tr style=\"text-align: right;\">\n",
       "      <th></th>\n",
       "      <th>STATEFP10</th>\n",
       "      <th>PUMACE10</th>\n",
       "      <th>AFFGEOID10</th>\n",
       "      <th>GEOID10</th>\n",
       "      <th>NAME10</th>\n",
       "      <th>LSAD10</th>\n",
       "      <th>ALAND10</th>\n",
       "      <th>AWATER10</th>\n",
       "      <th>geometry</th>\n",
       "      <th>centroids</th>\n",
       "      <th>lon</th>\n",
       "      <th>lat</th>\n",
       "    </tr>\n",
       "  </thead>\n",
       "  <tbody>\n",
       "    <tr>\n",
       "      <th>0</th>\n",
       "      <td>23</td>\n",
       "      <td>00700</td>\n",
       "      <td>7950000US2300700</td>\n",
       "      <td>2300700</td>\n",
       "      <td>Sagadahoc &amp; Cumberland (North) Counties--Bath ...</td>\n",
       "      <td>P0</td>\n",
       "      <td>1481180566</td>\n",
       "      <td>586264808</td>\n",
       "      <td>(POLYGON ((-69.76030899999999 43.710438, -69.7...</td>\n",
       "      <td>POINT (-70.05952491166848 43.92356688754782)</td>\n",
       "      <td>-70.059525</td>\n",
       "      <td>43.923567</td>\n",
       "    </tr>\n",
       "    <tr>\n",
       "      <th>1</th>\n",
       "      <td>23</td>\n",
       "      <td>00100</td>\n",
       "      <td>7950000US2300100</td>\n",
       "      <td>2300100</td>\n",
       "      <td>Northeast Maine--Aroostook &amp; Washington Counties</td>\n",
       "      <td>P0</td>\n",
       "      <td>23915364891</td>\n",
       "      <td>2205256863</td>\n",
       "      <td>(POLYGON ((-67.32259499999999 44.611595, -67.3...</td>\n",
       "      <td>POINT (-68.31967332861332 46.19025694926104)</td>\n",
       "      <td>-68.319673</td>\n",
       "      <td>46.190257</td>\n",
       "    </tr>\n",
       "    <tr>\n",
       "      <th>2</th>\n",
       "      <td>23</td>\n",
       "      <td>00900</td>\n",
       "      <td>7950000US2300900</td>\n",
       "      <td>2300900</td>\n",
       "      <td>Cumberland (Outside Portland) &amp; York (East) Co...</td>\n",
       "      <td>P0</td>\n",
       "      <td>754438511</td>\n",
       "      <td>131632564</td>\n",
       "      <td>(POLYGON ((-70.081609 43.712621, -70.078757 43...</td>\n",
       "      <td>POINT (-70.38377319809314 43.65608041845778)</td>\n",
       "      <td>-70.383773</td>\n",
       "      <td>43.656080</td>\n",
       "    </tr>\n",
       "    <tr>\n",
       "      <th>3</th>\n",
       "      <td>23</td>\n",
       "      <td>00800</td>\n",
       "      <td>7950000US2300800</td>\n",
       "      <td>2300800</td>\n",
       "      <td>South Maine--York (West) &amp; Cumberland (West) C...</td>\n",
       "      <td>P0</td>\n",
       "      <td>3017546402</td>\n",
       "      <td>843948035</td>\n",
       "      <td>(POLYGON ((-70.61833227720101 42.9866095660672...</td>\n",
       "      <td>POINT (-70.71529181904553 43.58568643516829)</td>\n",
       "      <td>-70.715292</td>\n",
       "      <td>43.585686</td>\n",
       "    </tr>\n",
       "    <tr>\n",
       "      <th>4</th>\n",
       "      <td>23</td>\n",
       "      <td>00200</td>\n",
       "      <td>7950000US2300200</td>\n",
       "      <td>2300200</td>\n",
       "      <td>Northwest Maine--Oxford, Somerset, Franklin &amp; ...</td>\n",
       "      <td>P0</td>\n",
       "      <td>30197034262</td>\n",
       "      <td>1895687134</td>\n",
       "      <td>POLYGON ((-71.08000299999999 45.306987, -71.07...</td>\n",
       "      <td>POINT (-69.9243911761004 45.37836901160687)</td>\n",
       "      <td>-69.924391</td>\n",
       "      <td>45.378369</td>\n",
       "    </tr>\n",
       "  </tbody>\n",
       "</table>\n",
       "</div>"
      ],
      "text/plain": [
       "  STATEFP10 PUMACE10        AFFGEOID10  GEOID10  \\\n",
       "0        23    00700  7950000US2300700  2300700   \n",
       "1        23    00100  7950000US2300100  2300100   \n",
       "2        23    00900  7950000US2300900  2300900   \n",
       "3        23    00800  7950000US2300800  2300800   \n",
       "4        23    00200  7950000US2300200  2300200   \n",
       "\n",
       "                                              NAME10 LSAD10      ALAND10  \\\n",
       "0  Sagadahoc & Cumberland (North) Counties--Bath ...     P0   1481180566   \n",
       "1   Northeast Maine--Aroostook & Washington Counties     P0  23915364891   \n",
       "2  Cumberland (Outside Portland) & York (East) Co...     P0    754438511   \n",
       "3  South Maine--York (West) & Cumberland (West) C...     P0   3017546402   \n",
       "4  Northwest Maine--Oxford, Somerset, Franklin & ...     P0  30197034262   \n",
       "\n",
       "     AWATER10                                           geometry  \\\n",
       "0   586264808  (POLYGON ((-69.76030899999999 43.710438, -69.7...   \n",
       "1  2205256863  (POLYGON ((-67.32259499999999 44.611595, -67.3...   \n",
       "2   131632564  (POLYGON ((-70.081609 43.712621, -70.078757 43...   \n",
       "3   843948035  (POLYGON ((-70.61833227720101 42.9866095660672...   \n",
       "4  1895687134  POLYGON ((-71.08000299999999 45.306987, -71.07...   \n",
       "\n",
       "                                      centroids        lon        lat  \n",
       "0  POINT (-70.05952491166848 43.92356688754782) -70.059525  43.923567  \n",
       "1  POINT (-68.31967332861332 46.19025694926104) -68.319673  46.190257  \n",
       "2  POINT (-70.38377319809314 43.65608041845778) -70.383773  43.656080  \n",
       "3  POINT (-70.71529181904553 43.58568643516829) -70.715292  43.585686  \n",
       "4   POINT (-69.9243911761004 45.37836901160687) -69.924391  45.378369  "
      ]
     },
     "execution_count": 41,
     "metadata": {},
     "output_type": "execute_result"
    }
   ],
   "source": [
    "df.head()"
   ]
  },
  {
   "cell_type": "code",
   "execution_count": 44,
   "metadata": {},
   "outputs": [],
   "source": [
    "df[['STATEFP10', 'PUMACE10', 'GEOID10', 'lon', 'lat']].to_csv('puma_centroids.csv', index=False)"
   ]
  },
  {
   "cell_type": "code",
   "execution_count": null,
   "metadata": {
    "collapsed": true
   },
   "outputs": [],
   "source": []
  },
  {
   "cell_type": "code",
   "execution_count": null,
   "metadata": {
    "collapsed": true
   },
   "outputs": [],
   "source": []
  },
  {
   "cell_type": "code",
   "execution_count": null,
   "metadata": {
    "collapsed": true
   },
   "outputs": [],
   "source": [
    "# delete below"
   ]
  },
  {
   "cell_type": "code",
   "execution_count": 19,
   "metadata": {
    "collapsed": true
   },
   "outputs": [],
   "source": [
    "df['centroids'] = df.centroid"
   ]
  },
  {
   "cell_type": "code",
   "execution_count": 20,
   "metadata": {
    "collapsed": true
   },
   "outputs": [],
   "source": [
    "df['lon'] = df['centroids'].apply(lambda p: p.x)\n",
    "df['lat'] = df['centroids'].apply(lambda p: p.y)"
   ]
  },
  {
   "cell_type": "code",
   "execution_count": 21,
   "metadata": {},
   "outputs": [
    {
     "data": {
      "text/plain": [
       "STATEFP10      object\n",
       "PUMACE10       object\n",
       "AFFGEOID10     object\n",
       "GEOID10        object\n",
       "NAME10         object\n",
       "LSAD10         object\n",
       "ALAND10         int64\n",
       "AWATER10        int64\n",
       "geometry       object\n",
       "centroids      object\n",
       "lon           float64\n",
       "lat           float64\n",
       "dtype: object"
      ]
     },
     "execution_count": 21,
     "metadata": {},
     "output_type": "execute_result"
    }
   ],
   "source": [
    "df.dtypes\n"
   ]
  },
  {
   "cell_type": "code",
   "execution_count": 22,
   "metadata": {},
   "outputs": [
    {
     "data": {
      "text/html": [
       "<div>\n",
       "<style scoped>\n",
       "    .dataframe tbody tr th:only-of-type {\n",
       "        vertical-align: middle;\n",
       "    }\n",
       "\n",
       "    .dataframe tbody tr th {\n",
       "        vertical-align: top;\n",
       "    }\n",
       "\n",
       "    .dataframe thead th {\n",
       "        text-align: right;\n",
       "    }\n",
       "</style>\n",
       "<table border=\"1\" class=\"dataframe\">\n",
       "  <thead>\n",
       "    <tr style=\"text-align: right;\">\n",
       "      <th></th>\n",
       "      <th>STATEFP10</th>\n",
       "      <th>PUMACE10</th>\n",
       "      <th>AFFGEOID10</th>\n",
       "      <th>GEOID10</th>\n",
       "      <th>NAME10</th>\n",
       "      <th>LSAD10</th>\n",
       "      <th>ALAND10</th>\n",
       "      <th>AWATER10</th>\n",
       "      <th>geometry</th>\n",
       "      <th>centroids</th>\n",
       "      <th>lon</th>\n",
       "      <th>lat</th>\n",
       "    </tr>\n",
       "  </thead>\n",
       "  <tbody>\n",
       "    <tr>\n",
       "      <th>0</th>\n",
       "      <td>23</td>\n",
       "      <td>00700</td>\n",
       "      <td>7950000US2300700</td>\n",
       "      <td>2300700</td>\n",
       "      <td>Sagadahoc &amp; Cumberland (North) Counties--Bath ...</td>\n",
       "      <td>P0</td>\n",
       "      <td>1481180566</td>\n",
       "      <td>586264808</td>\n",
       "      <td>(POLYGON ((-69.76030899999999 43.710438, -69.7...</td>\n",
       "      <td>POINT (-70.05952491166848 43.92356688754782)</td>\n",
       "      <td>-70.059525</td>\n",
       "      <td>43.923567</td>\n",
       "    </tr>\n",
       "    <tr>\n",
       "      <th>1</th>\n",
       "      <td>23</td>\n",
       "      <td>00100</td>\n",
       "      <td>7950000US2300100</td>\n",
       "      <td>2300100</td>\n",
       "      <td>Northeast Maine--Aroostook &amp; Washington Counties</td>\n",
       "      <td>P0</td>\n",
       "      <td>23915364891</td>\n",
       "      <td>2205256863</td>\n",
       "      <td>(POLYGON ((-67.32259499999999 44.611595, -67.3...</td>\n",
       "      <td>POINT (-68.31967332861332 46.19025694926104)</td>\n",
       "      <td>-68.319673</td>\n",
       "      <td>46.190257</td>\n",
       "    </tr>\n",
       "    <tr>\n",
       "      <th>2</th>\n",
       "      <td>23</td>\n",
       "      <td>00900</td>\n",
       "      <td>7950000US2300900</td>\n",
       "      <td>2300900</td>\n",
       "      <td>Cumberland (Outside Portland) &amp; York (East) Co...</td>\n",
       "      <td>P0</td>\n",
       "      <td>754438511</td>\n",
       "      <td>131632564</td>\n",
       "      <td>(POLYGON ((-70.081609 43.712621, -70.078757 43...</td>\n",
       "      <td>POINT (-70.38377319809314 43.65608041845778)</td>\n",
       "      <td>-70.383773</td>\n",
       "      <td>43.656080</td>\n",
       "    </tr>\n",
       "    <tr>\n",
       "      <th>3</th>\n",
       "      <td>23</td>\n",
       "      <td>00800</td>\n",
       "      <td>7950000US2300800</td>\n",
       "      <td>2300800</td>\n",
       "      <td>South Maine--York (West) &amp; Cumberland (West) C...</td>\n",
       "      <td>P0</td>\n",
       "      <td>3017546402</td>\n",
       "      <td>843948035</td>\n",
       "      <td>(POLYGON ((-70.61833227720101 42.9866095660672...</td>\n",
       "      <td>POINT (-70.71529181904553 43.58568643516829)</td>\n",
       "      <td>-70.715292</td>\n",
       "      <td>43.585686</td>\n",
       "    </tr>\n",
       "    <tr>\n",
       "      <th>4</th>\n",
       "      <td>23</td>\n",
       "      <td>00200</td>\n",
       "      <td>7950000US2300200</td>\n",
       "      <td>2300200</td>\n",
       "      <td>Northwest Maine--Oxford, Somerset, Franklin &amp; ...</td>\n",
       "      <td>P0</td>\n",
       "      <td>30197034262</td>\n",
       "      <td>1895687134</td>\n",
       "      <td>POLYGON ((-71.08000299999999 45.306987, -71.07...</td>\n",
       "      <td>POINT (-69.9243911761004 45.37836901160687)</td>\n",
       "      <td>-69.924391</td>\n",
       "      <td>45.378369</td>\n",
       "    </tr>\n",
       "  </tbody>\n",
       "</table>\n",
       "</div>"
      ],
      "text/plain": [
       "  STATEFP10 PUMACE10        AFFGEOID10  GEOID10  \\\n",
       "0        23    00700  7950000US2300700  2300700   \n",
       "1        23    00100  7950000US2300100  2300100   \n",
       "2        23    00900  7950000US2300900  2300900   \n",
       "3        23    00800  7950000US2300800  2300800   \n",
       "4        23    00200  7950000US2300200  2300200   \n",
       "\n",
       "                                              NAME10 LSAD10      ALAND10  \\\n",
       "0  Sagadahoc & Cumberland (North) Counties--Bath ...     P0   1481180566   \n",
       "1   Northeast Maine--Aroostook & Washington Counties     P0  23915364891   \n",
       "2  Cumberland (Outside Portland) & York (East) Co...     P0    754438511   \n",
       "3  South Maine--York (West) & Cumberland (West) C...     P0   3017546402   \n",
       "4  Northwest Maine--Oxford, Somerset, Franklin & ...     P0  30197034262   \n",
       "\n",
       "     AWATER10                                           geometry  \\\n",
       "0   586264808  (POLYGON ((-69.76030899999999 43.710438, -69.7...   \n",
       "1  2205256863  (POLYGON ((-67.32259499999999 44.611595, -67.3...   \n",
       "2   131632564  (POLYGON ((-70.081609 43.712621, -70.078757 43...   \n",
       "3   843948035  (POLYGON ((-70.61833227720101 42.9866095660672...   \n",
       "4  1895687134  POLYGON ((-71.08000299999999 45.306987, -71.07...   \n",
       "\n",
       "                                      centroids        lon        lat  \n",
       "0  POINT (-70.05952491166848 43.92356688754782) -70.059525  43.923567  \n",
       "1  POINT (-68.31967332861332 46.19025694926104) -68.319673  46.190257  \n",
       "2  POINT (-70.38377319809314 43.65608041845778) -70.383773  43.656080  \n",
       "3  POINT (-70.71529181904553 43.58568643516829) -70.715292  43.585686  \n",
       "4   POINT (-69.9243911761004 45.37836901160687) -69.924391  45.378369  "
      ]
     },
     "execution_count": 22,
     "metadata": {},
     "output_type": "execute_result"
    }
   ],
   "source": [
    "df.head()"
   ]
  },
  {
   "cell_type": "code",
   "execution_count": 34,
   "metadata": {},
   "outputs": [
    {
     "data": {
      "text/html": [
       "<div>\n",
       "<style scoped>\n",
       "    .dataframe tbody tr th:only-of-type {\n",
       "        vertical-align: middle;\n",
       "    }\n",
       "\n",
       "    .dataframe tbody tr th {\n",
       "        vertical-align: top;\n",
       "    }\n",
       "\n",
       "    .dataframe thead th {\n",
       "        text-align: right;\n",
       "    }\n",
       "</style>\n",
       "<table border=\"1\" class=\"dataframe\">\n",
       "  <thead>\n",
       "    <tr style=\"text-align: right;\">\n",
       "      <th></th>\n",
       "      <th>STATEFP10</th>\n",
       "      <th>PUMACE10</th>\n",
       "      <th>AFFGEOID10</th>\n",
       "      <th>GEOID10</th>\n",
       "      <th>NAME10</th>\n",
       "      <th>LSAD10</th>\n",
       "      <th>ALAND10</th>\n",
       "      <th>AWATER10</th>\n",
       "      <th>geometry</th>\n",
       "      <th>centroids</th>\n",
       "      <th>lon</th>\n",
       "      <th>lat</th>\n",
       "    </tr>\n",
       "  </thead>\n",
       "  <tbody>\n",
       "    <tr>\n",
       "      <th>18</th>\n",
       "      <td>01</td>\n",
       "      <td>02500</td>\n",
       "      <td>7950000US0102500</td>\n",
       "      <td>0102500</td>\n",
       "      <td>Houston, Dale, Geneva &amp; Henry Counties--Dothan...</td>\n",
       "      <td>P0</td>\n",
       "      <td>5897794512</td>\n",
       "      <td>37459906</td>\n",
       "      <td>POLYGON ((-86.19347599999999 31.192213, -86.12...</td>\n",
       "      <td>POINT (-85.49844663904503 31.29697625990032)</td>\n",
       "      <td>-85.498447</td>\n",
       "      <td>31.296976</td>\n",
       "    </tr>\n",
       "  </tbody>\n",
       "</table>\n",
       "</div>"
      ],
      "text/plain": [
       "   STATEFP10 PUMACE10        AFFGEOID10  GEOID10  \\\n",
       "18        01    02500  7950000US0102500  0102500   \n",
       "\n",
       "                                               NAME10 LSAD10     ALAND10  \\\n",
       "18  Houston, Dale, Geneva & Henry Counties--Dothan...     P0  5897794512   \n",
       "\n",
       "    AWATER10                                           geometry  \\\n",
       "18  37459906  POLYGON ((-86.19347599999999 31.192213, -86.12...   \n",
       "\n",
       "                                       centroids        lon        lat  \n",
       "18  POINT (-85.49844663904503 31.29697625990032) -85.498447  31.296976  "
      ]
     },
     "execution_count": 34,
     "metadata": {},
     "output_type": "execute_result"
    }
   ],
   "source": [
    "df[df['GEOID10']==\"0102500\"]"
   ]
  },
  {
   "cell_type": "code",
   "execution_count": 23,
   "metadata": {
    "collapsed": true
   },
   "outputs": [],
   "source": [
    "import os, sys\n",
    "\n",
    "sys.path.append(os.path.abspath('./pygwr/')) #import the pygwr module\n",
    "import pygwr"
   ]
  },
  {
   "cell_type": "code",
   "execution_count": 24,
   "metadata": {
    "collapsed": true
   },
   "outputs": [],
   "source": [
    "y = df['ALAND10'].values #target\n",
    "x = df['AWATER10'].values #education\n",
    "g = df[['lat', 'lon']].values #location\n",
    "ids = df['GEOID10'].values\n",
    "\n",
    "\n",
    "model = pygwr.GWR(targets=y, samples=x, locations=g)"
   ]
  },
  {
   "cell_type": "code",
   "execution_count": 25,
   "metadata": {},
   "outputs": [
    {
     "name": "stderr",
     "output_type": "stream",
     "text": [
      "pygwr/gwr.py:169: FutureWarning: comparison to `None` will result in an elementwise object comparison in the future.\n",
      "  if self.sample == None:\n"
     ]
    }
   ],
   "source": [
    "gwr_result = model.estimate_at_target_locations(bandwidth=1)"
   ]
  },
  {
   "cell_type": "code",
   "execution_count": 26,
   "metadata": {
    "collapsed": true
   },
   "outputs": [],
   "source": [
    "gwr_result = model.estimate_at_target_locations(bandwidth=1)"
   ]
  },
  {
   "cell_type": "code",
   "execution_count": 27,
   "metadata": {
    "collapsed": true
   },
   "outputs": [],
   "source": [
    "gwr_result.export_csv('us_gwr_result.csv')"
   ]
  },
  {
   "cell_type": "code",
   "execution_count": null,
   "metadata": {
    "collapsed": true
   },
   "outputs": [],
   "source": []
  }
 ],
 "metadata": {
  "kernelspec": {
   "display_name": "Python [conda env:geopandas]",
   "language": "python",
   "name": "conda-env-geopandas-py"
  },
  "language_info": {
   "codemirror_mode": {
    "name": "ipython",
    "version": 2
   },
   "file_extension": ".py",
   "mimetype": "text/x-python",
   "name": "python",
   "nbconvert_exporter": "python",
   "pygments_lexer": "ipython2",
   "version": "2.7.14"
  }
 },
 "nbformat": 4,
 "nbformat_minor": 2
}
