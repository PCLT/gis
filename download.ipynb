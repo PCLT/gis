{
 "cells": [
  {
   "cell_type": "markdown",
   "metadata": {},
   "source": [
    "## Downloads and extracts all PUMS shape files"
   ]
  },
  {
   "cell_type": "code",
   "execution_count": 9,
   "metadata": {
    "collapsed": true
   },
   "outputs": [],
   "source": [
    "import urllib\n",
    "import zipfile  "
   ]
  },
  {
   "cell_type": "code",
   "execution_count": 10,
   "metadata": {
    "collapsed": true
   },
   "outputs": [],
   "source": [
    "# list of all fips codes\n",
    "fips = [u'23', u'15', u'04', u'05', u'10', u'13', u'27', u'02', u'06',\n",
    "       u'11', u'12', u'16', u'17', u'19', u'21', u'22', u'24', u'26',\n",
    "       u'29', u'30', u'36', u'41', u'47', u'48', u'51', u'55', u'46',\n",
    "       u'49', u'18', u'25', u'28', u'31', u'35', u'37', u'44', u'39',\n",
    "       u'40', u'45', u'08', u'20', u'09', u'32', u'53', u'54', u'56',\n",
    "       u'01', u'72', u'33', u'34', u'38', u'42', u'50']"
   ]
  },
  {
   "cell_type": "code",
   "execution_count": 15,
   "metadata": {
    "collapsed": true
   },
   "outputs": [],
   "source": [
    "# download all puma fips files, save and extract\n",
    "for fip in fips:\n",
    "    location = \"https://www2.census.gov/geo/tiger/GENZ2016/shp/cb_2016_{}_puma10_500k.zip\".format(fip)\n",
    "    testfile = urllib.URLopener()\n",
    "    testfile.retrieve(location, \"./pums/st{}.zip\".format(fip))\n",
    "    zipper = zipfile.ZipFile(\"./pums/st{}.zip\".format(fip))  \n",
    "    zipper.extractall('./pums/{}/'.format(fip)) "
   ]
  },
  {
   "cell_type": "code",
   "execution_count": null,
   "metadata": {
    "collapsed": true
   },
   "outputs": [],
   "source": []
  }
 ],
 "metadata": {
  "kernelspec": {
   "display_name": "Python [conda root]",
   "language": "python",
   "name": "conda-root-py"
  },
  "language_info": {
   "codemirror_mode": {
    "name": "ipython",
    "version": 2
   },
   "file_extension": ".py",
   "mimetype": "text/x-python",
   "name": "python",
   "nbconvert_exporter": "python",
   "pygments_lexer": "ipython2",
   "version": "2.7.14"
  }
 },
 "nbformat": 4,
 "nbformat_minor": 2
}
